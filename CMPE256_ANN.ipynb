{
 "cells": [
  {
   "cell_type": "code",
   "execution_count": 1,
   "metadata": {},
   "outputs": [],
   "source": [
    "# Get required libraries \n",
    "import numpy as np\n",
    "import pylab as pl\n",
    "import pandas as pd\n",
    "import matplotlib.pyplot as plt \n",
    "import seaborn as sns\n",
    "from sklearn.utils import shuffle\n",
    "from sklearn.svm import SVC\n",
    "from sklearn.metrics import confusion_matrix, classification_report\n",
    "from sklearn.model_selection import cross_val_score, GridSearchCV"
   ]
  },
  {
   "cell_type": "code",
   "execution_count": 2,
   "metadata": {},
   "outputs": [],
   "source": [
    "#Load train and test datasets and shuffle the data \n",
    "import time\n",
    "start = time.clock()\n",
    "train = shuffle(pd.read_csv(\"train.csv\"))\n",
    "test = shuffle(pd.read_csv(\"test.csv\"))"
   ]
  },
  {
   "cell_type": "code",
   "execution_count": 3,
   "metadata": {},
   "outputs": [],
   "source": [
    "def plot_confusion(classifier, test_pts, test_labels):\n",
    "    cl = ['STANDING',\n",
    "               'SITTING',\n",
    "               'LYING',\n",
    "               'WALKING',\n",
    "               'WALK_DOWN',\n",
    "               'WALK_UP']\n",
    "    \n",
    "    pred_label = classifier.predict(test_pts)\n",
    "\n",
    "    result = confusion_matrix(test_labels, pred_label)\n",
    "\n",
    "    fig = plt.figure()\n",
    "    ax = fig.add_subplot(111)\n",
    "    \n",
    "    cax = ax.matshow(result)\n",
    "\n",
    "    fig.colorbar(cax)\n",
    "    ax.set_xticklabels([''] + cl,rotation = 90)\n",
    "    ax.set_yticklabels([''] + cl)\n",
    "    plt.xlabel(\"Predicted Label\")\n",
    "    plt.ylabel(\"True Label\")\n",
    "    plt.show()"
   ]
  },
  {
   "cell_type": "code",
   "execution_count": 4,
   "metadata": {},
   "outputs": [
    {
     "name": "stdout",
     "output_type": "stream",
     "text": [
      "Any missing sample in training set: False\n",
      "Any missing sample in test set: False \n",
      "\n"
     ]
    },
    {
     "data": {
      "text/html": [
       "<div>\n",
       "<style scoped>\n",
       "    .dataframe tbody tr th:only-of-type {\n",
       "        vertical-align: middle;\n",
       "    }\n",
       "\n",
       "    .dataframe tbody tr th {\n",
       "        vertical-align: top;\n",
       "    }\n",
       "\n",
       "    .dataframe thead th {\n",
       "        text-align: right;\n",
       "    }\n",
       "</style>\n",
       "<table border=\"1\" class=\"dataframe\">\n",
       "  <thead>\n",
       "    <tr style=\"text-align: right;\">\n",
       "      <th>col_0</th>\n",
       "      <th>count</th>\n",
       "    </tr>\n",
       "    <tr>\n",
       "      <th>Activity</th>\n",
       "      <th></th>\n",
       "    </tr>\n",
       "  </thead>\n",
       "  <tbody>\n",
       "    <tr>\n",
       "      <th>LAYING</th>\n",
       "      <td>1407</td>\n",
       "    </tr>\n",
       "    <tr>\n",
       "      <th>SITTING</th>\n",
       "      <td>1286</td>\n",
       "    </tr>\n",
       "    <tr>\n",
       "      <th>STANDING</th>\n",
       "      <td>1374</td>\n",
       "    </tr>\n",
       "    <tr>\n",
       "      <th>WALKING</th>\n",
       "      <td>1226</td>\n",
       "    </tr>\n",
       "    <tr>\n",
       "      <th>WALKING_DOWNSTAIRS</th>\n",
       "      <td>986</td>\n",
       "    </tr>\n",
       "    <tr>\n",
       "      <th>WALKING_UPSTAIRS</th>\n",
       "      <td>1073</td>\n",
       "    </tr>\n",
       "  </tbody>\n",
       "</table>\n",
       "</div>"
      ],
      "text/plain": [
       "col_0               count\n",
       "Activity                 \n",
       "LAYING               1407\n",
       "SITTING              1286\n",
       "STANDING             1374\n",
       "WALKING              1226\n",
       "WALKING_DOWNSTAIRS    986\n",
       "WALKING_UPSTAIRS     1073"
      ]
     },
     "execution_count": 4,
     "metadata": {},
     "output_type": "execute_result"
    }
   ],
   "source": [
    "# Summary statistics of training and test data to check for missing values\n",
    "print(\"Any missing sample in training set:\",train.isnull().values.any())\n",
    "print(\"Any missing sample in test set:\",test.isnull().values.any(), \"\\n\")\n",
    "\n",
    "#Frequency distribution of classes\"\n",
    "train_outcome = pd.crosstab(index=train[\"Activity\"],  # Make a crosstab\n",
    "                              columns=\"count\")      # Name the count column\n",
    "\n",
    "train_outcome\n"
   ]
  },
  {
   "cell_type": "code",
   "execution_count": 5,
   "metadata": {},
   "outputs": [
    {
     "data": {
      "image/png": "[encoded data removed]",
      "text/plain": [
       "<Figure size 432x288 with 1 Axes>"
      ]
     },
     "metadata": {},
     "output_type": "display_data"
    }
   ],
   "source": [
    "# Visualizing Outcome Distribution \n",
    "temp = train[\"Activity\"].value_counts()\n",
    "df = pd.DataFrame({'labels': temp.index,\n",
    "                   'values': temp.values\n",
    "                  })\n",
    "\n",
    "#df.plot(kind='pie',labels='labels',values='values', title='Activity Ditribution',subplots= \"True\")\n",
    "\n",
    "labels = df['labels']\n",
    "sizes = df['values']\n",
    "colors = ['yellowgreen', 'gold', 'lightskyblue', 'lightcoral','cyan','lightpink']\n",
    "patches, texts = plt.pie(sizes, colors=colors, shadow=True, startangle=90, pctdistance=1.1, labeldistance=1.2)\n",
    "plt.legend(patches, labels, loc=\"best\")\n",
    "plt.axis('equal')\n",
    "plt.tight_layout()\n",
    "plt.show()\n"
   ]
  },
  {
   "cell_type": "code",
   "execution_count": 6,
   "metadata": {},
   "outputs": [
    {
     "name": "stdout",
     "output_type": "stream",
     "text": [
      "Dimension of Train set (7352, 561)\n",
      "Dimension of Test set (2947, 561) \n",
      "\n",
      "Number of numeric features: 561\n"
     ]
    }
   ],
   "source": [
    "# Seperating Predictors and Outcome values from train and test sets\n",
    "X_train = pd.DataFrame(train.drop(['Activity','subject'],axis=1))\n",
    "Y_train_label = train.Activity.values.astype(object)\n",
    "X_test = pd.DataFrame(test.drop(['Activity','subject'],axis=1))\n",
    "Y_test_label = test.Activity.values.astype(object)\n",
    "\n",
    "# Dimension of Train and Test set \n",
    "print(\"Dimension of Train set\",X_train.shape)\n",
    "print(\"Dimension of Test set\",X_test.shape,\"\\n\")\n",
    "\n",
    "# Transforming non numerical labels into numerical labels\n",
    "from sklearn import preprocessing\n",
    "encoder = preprocessing.LabelEncoder()\n",
    "\n",
    "# encoding train labels \n",
    "encoder.fit(Y_train_label)\n",
    "Y_train = encoder.transform(Y_train_label)\n",
    "\n",
    "# encoding test labels \n",
    "encoder.fit(Y_test_label)\n",
    "Y_test = encoder.transform(Y_test_label)\n",
    "\n",
    "#Total Number of Continous and Categorical features in the training set\n",
    "num_cols = X_train._get_numeric_data().columns\n",
    "print(\"Number of numeric features:\",num_cols.size)\n",
    "#list(set(X_train.columns) - set(num_cols))\n",
    "\n",
    "\n",
    "names_of_predictors = list(X_train.columns.values)\n",
    "\n",
    "# Scaling the Train and Test feature set \n",
    "from sklearn.preprocessing import StandardScaler\n",
    "\n",
    "scaler = StandardScaler()\n",
    "X_train_scaled = scaler.fit_transform(X_train)\n",
    "X_test_scaled = scaler.transform(X_test)\n"
   ]
  },
  {
   "cell_type": "code",
   "execution_count": 7,
   "metadata": {},
   "outputs": [
    {
     "name": "stdout",
     "output_type": "stream",
     "text": [
      "0.993617090354283\n"
     ]
    },
    {
     "data": {
      "text/plain": [
       "(2947, 200)"
      ]
     },
     "execution_count": 7,
     "metadata": {},
     "output_type": "execute_result"
    }
   ],
   "source": [
    "from sklearn.decomposition import PCA\n",
    "\n",
    "pca = PCA(n_components=200)\n",
    "X_train_scaled = pca.fit_transform(X_train_scaled, Y_train)\n",
    "print(pca.explained_variance_ratio_.sum())\n",
    "X_test_scaled = pca.transform(X_test_scaled)\n",
    "X_test_scaled.shape"
   ]
  },
  {
   "cell_type": "code",
   "execution_count": 8,
   "metadata": {},
   "outputs": [
    {
     "name": "stderr",
     "output_type": "stream",
     "text": [
      "/Users/randylee/anaconda3/lib/python3.6/site-packages/h5py/__init__.py:36: FutureWarning: Conversion of the second argument of issubdtype from `float` to `np.floating` is deprecated. In future, it will be treated as `np.float64 == np.dtype(float).type`.\n",
      "  from ._conv import register_converters as _register_converters\n"
     ]
    },
    {
     "data": {
      "text/plain": [
       "'2.0.0'"
      ]
     },
     "execution_count": 8,
     "metadata": {},
     "output_type": "execute_result"
    }
   ],
   "source": [
    "import tensorflow as tf\n",
    "tf.__version__"
   ]
  },
  {
   "cell_type": "markdown",
   "metadata": {},
   "source": [
    "## Create Model"
   ]
  },
  {
   "cell_type": "code",
   "execution_count": 37,
   "metadata": {},
   "outputs": [],
   "source": [
    "model = tf.keras.models.Sequential()\n",
    "    \n",
    "#Input layer\n",
    "model.add(tf.keras.layers.Dense(48, input_dim = 200,\n",
    "                         kernel_initializer='uniform', activation='relu', ))\n",
    "#Hidden layer\n",
    "model.add(tf.keras.layers.Dropout(0.1))\n",
    "model.add(tf.keras.layers.Dense(36, kernel_initializer='uniform', activation='relu'))\n",
    "model.add(tf.keras.layers.Dropout(0.1))\n",
    "model.add(tf.keras.layers.Dense(30, kernel_initializer='uniform', activation='relu'))\n",
    "model.add(tf.keras.layers.Dropout(0.1))\n",
    "\n",
    "#Output layer\n",
    "model.add(tf.keras.layers.Dense(6, kernel_initializer='uniform', activation='softmax'))\n",
    "\n",
    "model.compile(optimizer='adam', loss='sparse_categorical_crossentropy', metrics = ['accuracy'])\n"
   ]
  },
  {
   "cell_type": "code",
   "execution_count": 38,
   "metadata": {},
   "outputs": [
    {
     "name": "stdout",
     "output_type": "stream",
     "text": [
      "Train on 7352 samples\n",
      "Epoch 1/100\n",
      "7352/7352 - 2s - loss: 0.6300 - accuracy: 0.6838\n",
      "Epoch 2/100\n",
      "7352/7352 - 2s - loss: 0.0949 - accuracy: 0.9675\n",
      "Epoch 3/100\n",
      "7352/7352 - 2s - loss: 0.0686 - accuracy: 0.9780\n",
      "Epoch 4/100\n",
      "7352/7352 - 2s - loss: 0.0480 - accuracy: 0.9845\n",
      "Epoch 5/100\n",
      "7352/7352 - 2s - loss: 0.0363 - accuracy: 0.9874\n",
      "Epoch 6/100\n",
      "7352/7352 - 1s - loss: 0.0338 - accuracy: 0.9895\n",
      "Epoch 7/100\n",
      "7352/7352 - 1s - loss: 0.0269 - accuracy: 0.9912\n",
      "Epoch 8/100\n",
      "7352/7352 - 1s - loss: 0.0291 - accuracy: 0.9928\n",
      "Epoch 9/100\n",
      "7352/7352 - 1s - loss: 0.0208 - accuracy: 0.9947\n",
      "Epoch 10/100\n",
      "7352/7352 - 1s - loss: 0.0245 - accuracy: 0.9935\n",
      "Epoch 11/100\n",
      "7352/7352 - 1s - loss: 0.0200 - accuracy: 0.9935\n",
      "Epoch 12/100\n",
      "7352/7352 - 1s - loss: 0.0153 - accuracy: 0.9956\n",
      "Epoch 13/100\n",
      "7352/7352 - 1s - loss: 0.0106 - accuracy: 0.9971\n",
      "Epoch 14/100\n",
      "7352/7352 - 1s - loss: 0.0175 - accuracy: 0.9950\n",
      "Epoch 15/100\n",
      "7352/7352 - 1s - loss: 0.0147 - accuracy: 0.9951\n",
      "Epoch 16/100\n",
      "7352/7352 - 1s - loss: 0.0104 - accuracy: 0.9971\n",
      "Epoch 17/100\n",
      "7352/7352 - 2s - loss: 0.0060 - accuracy: 0.9981\n",
      "Epoch 18/100\n",
      "7352/7352 - 2s - loss: 0.0145 - accuracy: 0.9958\n",
      "Epoch 19/100\n",
      "7352/7352 - 1s - loss: 0.0065 - accuracy: 0.9974\n",
      "Epoch 20/100\n",
      "7352/7352 - 1s - loss: 0.0106 - accuracy: 0.9974\n",
      "Epoch 21/100\n",
      "7352/7352 - 2s - loss: 0.0098 - accuracy: 0.9980\n",
      "Epoch 22/100\n",
      "7352/7352 - 1s - loss: 0.0062 - accuracy: 0.9985\n",
      "Epoch 23/100\n",
      "7352/7352 - 2s - loss: 0.0124 - accuracy: 0.9970\n",
      "Epoch 24/100\n",
      "7352/7352 - 2s - loss: 0.0061 - accuracy: 0.9981\n",
      "Epoch 25/100\n",
      "7352/7352 - 2s - loss: 0.0105 - accuracy: 0.9982\n",
      "Epoch 26/100\n",
      "7352/7352 - 1s - loss: 0.0168 - accuracy: 0.9967\n",
      "Epoch 27/100\n",
      "7352/7352 - 1s - loss: 0.0127 - accuracy: 0.9967\n",
      "Epoch 28/100\n",
      "7352/7352 - 1s - loss: 0.0089 - accuracy: 0.9973\n",
      "Epoch 29/100\n",
      "7352/7352 - 1s - loss: 0.0053 - accuracy: 0.9985\n",
      "Epoch 30/100\n",
      "7352/7352 - 1s - loss: 0.0063 - accuracy: 0.9981\n",
      "Epoch 31/100\n",
      "7352/7352 - 2s - loss: 0.0075 - accuracy: 0.9980\n",
      "Epoch 32/100\n",
      "7352/7352 - 2s - loss: 0.0121 - accuracy: 0.9971\n",
      "Epoch 33/100\n",
      "7352/7352 - 2s - loss: 0.0069 - accuracy: 0.9981\n",
      "Epoch 34/100\n",
      "7352/7352 - 1s - loss: 0.0032 - accuracy: 0.9990\n",
      "Epoch 35/100\n",
      "7352/7352 - 1s - loss: 0.0062 - accuracy: 0.9988\n",
      "Epoch 36/100\n",
      "7352/7352 - 1s - loss: 0.0055 - accuracy: 0.9985\n",
      "Epoch 37/100\n",
      "7352/7352 - 1s - loss: 0.0089 - accuracy: 0.9978\n",
      "Epoch 38/100\n",
      "7352/7352 - 1s - loss: 0.0033 - accuracy: 0.9989\n",
      "Epoch 39/100\n",
      "7352/7352 - 1s - loss: 0.0120 - accuracy: 0.9970\n",
      "Epoch 40/100\n",
      "7352/7352 - 1s - loss: 0.0021 - accuracy: 0.9995\n",
      "Epoch 41/100\n",
      "7352/7352 - 1s - loss: 0.0096 - accuracy: 0.9971\n",
      "Epoch 42/100\n",
      "7352/7352 - 1s - loss: 0.0081 - accuracy: 0.9988\n",
      "Epoch 43/100\n",
      "7352/7352 - 1s - loss: 0.0016 - accuracy: 0.9996\n",
      "Epoch 44/100\n",
      "7352/7352 - 2s - loss: 0.0078 - accuracy: 0.9980\n",
      "Epoch 45/100\n",
      "7352/7352 - 1s - loss: 0.0044 - accuracy: 0.9989\n",
      "Epoch 46/100\n",
      "7352/7352 - 2s - loss: 0.0136 - accuracy: 0.9977\n",
      "Epoch 47/100\n",
      "7352/7352 - 1s - loss: 0.0041 - accuracy: 0.9989\n",
      "Epoch 48/100\n",
      "7352/7352 - 1s - loss: 0.0037 - accuracy: 0.9988\n",
      "Epoch 49/100\n",
      "7352/7352 - 1s - loss: 0.0120 - accuracy: 0.9965\n",
      "Epoch 50/100\n",
      "7352/7352 - 2s - loss: 0.0061 - accuracy: 0.9989\n",
      "Epoch 51/100\n",
      "7352/7352 - 1s - loss: 0.0042 - accuracy: 0.9986\n",
      "Epoch 52/100\n",
      "7352/7352 - 1s - loss: 0.0069 - accuracy: 0.9980\n",
      "Epoch 53/100\n",
      "7352/7352 - 1s - loss: 0.0041 - accuracy: 0.9990\n",
      "Epoch 54/100\n",
      "7352/7352 - 2s - loss: 0.0014 - accuracy: 0.9995\n",
      "Epoch 55/100\n",
      "7352/7352 - 1s - loss: 0.0092 - accuracy: 0.9973\n",
      "Epoch 56/100\n",
      "7352/7352 - 1s - loss: 0.0036 - accuracy: 0.9990\n",
      "Epoch 57/100\n",
      "7352/7352 - 1s - loss: 0.0043 - accuracy: 0.9990\n",
      "Epoch 58/100\n",
      "7352/7352 - 2s - loss: 0.0036 - accuracy: 0.9989\n",
      "Epoch 59/100\n",
      "7352/7352 - 2s - loss: 0.0074 - accuracy: 0.9984\n",
      "Epoch 60/100\n",
      "7352/7352 - 1s - loss: 0.0067 - accuracy: 0.9981\n",
      "Epoch 61/100\n",
      "7352/7352 - 2s - loss: 0.0129 - accuracy: 0.9981\n",
      "Epoch 62/100\n",
      "7352/7352 - 1s - loss: 0.0032 - accuracy: 0.9993\n",
      "Epoch 63/100\n",
      "7352/7352 - 1s - loss: 0.0038 - accuracy: 0.9986\n",
      "Epoch 64/100\n",
      "7352/7352 - 1s - loss: 0.0011 - accuracy: 0.9997\n",
      "Epoch 65/100\n",
      "7352/7352 - 1s - loss: 0.0087 - accuracy: 0.9982\n",
      "Epoch 66/100\n",
      "7352/7352 - 1s - loss: 0.0037 - accuracy: 0.9988\n",
      "Epoch 67/100\n",
      "7352/7352 - 1s - loss: 8.6537e-04 - accuracy: 0.9997\n",
      "Epoch 68/100\n",
      "7352/7352 - 1s - loss: 0.0062 - accuracy: 0.9988\n",
      "Epoch 69/100\n",
      "7352/7352 - 1s - loss: 0.0061 - accuracy: 0.9981\n",
      "Epoch 70/100\n",
      "7352/7352 - 1s - loss: 0.0041 - accuracy: 0.9985\n",
      "Epoch 71/100\n",
      "7352/7352 - 1s - loss: 0.0063 - accuracy: 0.9986\n",
      "Epoch 72/100\n",
      "7352/7352 - 1s - loss: 0.0054 - accuracy: 0.9988\n",
      "Epoch 73/100\n",
      "7352/7352 - 1s - loss: 0.0026 - accuracy: 0.9989\n",
      "Epoch 74/100\n",
      "7352/7352 - 1s - loss: 0.0071 - accuracy: 0.9984\n",
      "Epoch 75/100\n",
      "7352/7352 - 1s - loss: 0.0070 - accuracy: 0.9985\n",
      "Epoch 76/100\n",
      "7352/7352 - 2s - loss: 0.0025 - accuracy: 0.9988\n",
      "Epoch 77/100\n",
      "7352/7352 - 2s - loss: 0.0032 - accuracy: 0.9989\n",
      "Epoch 78/100\n",
      "7352/7352 - 2s - loss: 0.0041 - accuracy: 0.9993\n",
      "Epoch 79/100\n",
      "7352/7352 - 1s - loss: 0.0080 - accuracy: 0.9984\n",
      "Epoch 80/100\n",
      "7352/7352 - 2s - loss: 0.0025 - accuracy: 0.9992\n",
      "Epoch 81/100\n",
      "7352/7352 - 2s - loss: 0.0055 - accuracy: 0.9989\n",
      "Epoch 82/100\n",
      "7352/7352 - 2s - loss: 0.0058 - accuracy: 0.9988\n",
      "Epoch 83/100\n",
      "7352/7352 - 1s - loss: 0.0059 - accuracy: 0.9989\n",
      "Epoch 84/100\n",
      "7352/7352 - 2s - loss: 0.0080 - accuracy: 0.9982\n",
      "Epoch 85/100\n",
      "7352/7352 - 2s - loss: 0.0041 - accuracy: 0.9990\n",
      "Epoch 86/100\n",
      "7352/7352 - 2s - loss: 0.0087 - accuracy: 0.9986\n",
      "Epoch 87/100\n",
      "7352/7352 - 1s - loss: 0.0019 - accuracy: 0.9997\n",
      "Epoch 88/100\n",
      "7352/7352 - 1s - loss: 0.0053 - accuracy: 0.9985\n",
      "Epoch 89/100\n",
      "7352/7352 - 2s - loss: 0.0038 - accuracy: 0.9986\n",
      "Epoch 90/100\n",
      "7352/7352 - 1s - loss: 0.0048 - accuracy: 0.9986\n",
      "Epoch 91/100\n",
      "7352/7352 - 2s - loss: 0.0018 - accuracy: 0.9996\n",
      "Epoch 92/100\n",
      "7352/7352 - 2s - loss: 3.5225e-04 - accuracy: 1.0000\n",
      "Epoch 93/100\n",
      "7352/7352 - 2s - loss: 0.0042 - accuracy: 0.9992\n",
      "Epoch 94/100\n",
      "7352/7352 - 2s - loss: 0.0085 - accuracy: 0.9985\n",
      "Epoch 95/100\n",
      "7352/7352 - 2s - loss: 0.0027 - accuracy: 0.9993\n",
      "Epoch 96/100\n",
      "7352/7352 - 1s - loss: 0.0087 - accuracy: 0.9986\n",
      "Epoch 97/100\n",
      "7352/7352 - 2s - loss: 0.0024 - accuracy: 0.9990\n",
      "Epoch 98/100\n",
      "7352/7352 - 2s - loss: 0.0042 - accuracy: 0.9985\n",
      "Epoch 99/100\n",
      "7352/7352 - 1s - loss: 0.0033 - accuracy: 0.9988\n",
      "Epoch 100/100\n",
      "7352/7352 - 2s - loss: 5.7726e-04 - accuracy: 0.9999\n"
     ]
    },
    {
     "data": {
      "text/plain": [
       "<tensorflow.python.keras.callbacks.History at 0x11a1f5390>"
      ]
     },
     "execution_count": 38,
     "metadata": {},
     "output_type": "execute_result"
    }
   ],
   "source": [
    "#Fitting the ANN to the training set\n",
    "model.fit(X_train_scaled, Y_train, batch_size=10, epochs=100, verbose = 2)"
   ]
  },
  {
   "cell_type": "code",
   "execution_count": 14,
   "metadata": {},
   "outputs": [
    {
     "name": "stdout",
     "output_type": "stream",
     "text": [
      "2947/1 - 2s - loss: 0.9307 - accuracy: 0.9437\n",
      "0.6012423979376014 0.9436715\n"
     ]
    }
   ],
   "source": [
    "# PCA = 200 # parameters(48, 36, 30)\n",
    "val_loss, val_acc = model.evaluate(X_test_scaled, Y_test, verbose = 2)\n",
    "print(val_loss, val_acc)"
   ]
  },
  {
   "cell_type": "code",
   "execution_count": 36,
   "metadata": {},
   "outputs": [
    {
     "name": "stderr",
     "output_type": "stream",
     "text": [
      "/Users/randylee/anaconda3/lib/python3.6/site-packages/sklearn/preprocessing/label.py:151: DeprecationWarning: The truth value of an empty array is ambiguous. Returning False, but in future this will result in an error. Use `array.size > 0` to check that an array is not empty.\n",
      "  if diff:\n"
     ]
    },
    {
     "name": "stdout",
     "output_type": "stream",
     "text": [
      "[[532   0   0   5   0   0]\n",
      " [  2 417  71   0   0   1]\n",
      " [  0  26 506   0   0   0]\n",
      " [  0   0   0 492   4   0]\n",
      " [  0   0   1   9 393  17]\n",
      " [  0   0   1  24   5 441]]\n",
      "\n",
      "\n",
      "                    precision    recall  f1-score   support\n",
      "\n",
      "            LAYING       1.00      0.99      0.99       537\n",
      "           SITTING       0.94      0.85      0.89       491\n",
      "          STANDING       0.87      0.95      0.91       532\n",
      "           WALKING       0.93      0.99      0.96       496\n",
      "WALKING_DOWNSTAIRS       0.98      0.94      0.96       420\n",
      "  WALKING_UPSTAIRS       0.96      0.94      0.95       471\n",
      "\n",
      "       avg / total       0.95      0.94      0.94      2947\n",
      "\n"
     ]
    }
   ],
   "source": [
    "Y_pred = model.predict(X_test_scaled)\n",
    "Y_predictions = []\n",
    "for i in range(len(Y_pred)):\n",
    "    Y_predictions.append(Y_pred[i].argmax())\n",
    "Y_pred_label = list(encoder.inverse_transform(Y_predictions))\n",
    "\n",
    "print(confusion_matrix(Y_test_label,Y_pred_label))\n",
    "print(\"\\n\")\n",
    "print(classification_report(Y_test_label,Y_pred_label))"
   ]
  }
 ],
 "metadata": {
  "kernelspec": {
   "display_name": "Python 3",
   "language": "python",
   "name": "python3"
  },
  "language_info": {
   "codemirror_mode": {
    "name": "ipython",
    "version": 3
   },
   "file_extension": ".py",
   "mimetype": "text/x-python",
   "name": "python",
   "nbconvert_exporter": "python",
   "pygments_lexer": "ipython3",
   "version": "3.6.5"
  }
 },
 "nbformat": 4,
 "nbformat_minor": 2
}
