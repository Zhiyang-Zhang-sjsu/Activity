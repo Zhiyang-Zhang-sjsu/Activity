{
 "cells": [
  {
   "cell_type": "code",
   "execution_count": 1,
   "metadata": {},
   "outputs": [],
   "source": [
    "# Get required libraries \n",
    "import numpy as np\n",
    "import pylab as pl\n",
    "import pandas as pd\n",
    "import matplotlib.pyplot as plt \n",
    "import seaborn as sns\n",
    "from sklearn.utils import shuffle\n",
    "from sklearn.svm import SVC\n",
    "from sklearn.metrics import confusion_matrix, classification_report\n",
    "from sklearn.model_selection import cross_val_score, GridSearchCV"
   ]
  },
  {
   "cell_type": "code",
   "execution_count": 2,
   "metadata": {},
   "outputs": [],
   "source": [
    "#Load train and test datasets and shuffle the data \n",
    "import time\n",
    "start = time.clock()\n",
    "train = shuffle(pd.read_csv(\"train.csv\"))\n",
    "test = shuffle(pd.read_csv(\"test.csv\"))"
   ]
  },
  {
   "cell_type": "code",
   "execution_count": 6,
   "metadata": {},
   "outputs": [
    {
     "name": "stdout",
     "output_type": "stream",
     "text": [
      "Dimension of Train set (7352, 561)\n",
      "Dimension of Test set (2947, 561) \n",
      "\n",
      "Number of numeric features: 561\n"
     ]
    }
   ],
   "source": [
    "# Seperating Predictors and Outcome values from train and test sets\n",
    "X_train = pd.DataFrame(train.drop(['Activity','subject'],axis=1))\n",
    "Y_train_label = train.Activity.values.astype(object)\n",
    "X_test = pd.DataFrame(test.drop(['Activity','subject'],axis=1))\n",
    "Y_test_label = test.Activity.values.astype(object)\n",
    "\n",
    "# Dimension of Train and Test set \n",
    "print(\"Dimension of Train set\",X_train.shape)\n",
    "print(\"Dimension of Test set\",X_test.shape,\"\\n\")\n",
    "\n",
    "# Transforming non numerical labels into numerical labels\n",
    "from sklearn import preprocessing\n",
    "encoder = preprocessing.LabelEncoder()\n",
    "\n",
    "# encoding train labels \n",
    "encoder.fit(Y_train_label)\n",
    "Y_train = encoder.transform(Y_train_label)\n",
    "\n",
    "# encoding test labels \n",
    "encoder.fit(Y_test_label)\n",
    "Y_test = encoder.transform(Y_test_label)\n",
    "\n",
    "#Total Number of Continous and Categorical features in the training set\n",
    "num_cols = X_train._get_numeric_data().columns\n",
    "print(\"Number of numeric features:\",num_cols.size)\n",
    "#list(set(X_train.columns) - set(num_cols))\n",
    "\n",
    "\n",
    "names_of_predictors = list(X_train.columns.values)\n",
    "\n",
    "# Scaling the Train and Test feature set \n",
    "from sklearn.preprocessing import StandardScaler\n",
    "\n",
    "scaler = StandardScaler()\n",
    "X_train_scaled = scaler.fit_transform(X_train)\n",
    "X_test_scaled = scaler.transform(X_test)"
   ]
  },
  {
   "cell_type": "code",
   "execution_count": 7,
   "metadata": {},
   "outputs": [
    {
     "name": "stdout",
     "output_type": "stream",
     "text": [
      "0.9936114684996993\n"
     ]
    }
   ],
   "source": [
    "from sklearn.decomposition import PCA\n",
    "\n",
    "pca = PCA(n_components=200)\n",
    "X_train_scaled = pca.fit_transform(X_train_scaled, Y_train)\n",
    "print(pca.explained_variance_ratio_.sum())\n",
    "X_test_scaled = pca.transform(X_test_scaled)"
   ]
  },
  {
   "cell_type": "code",
   "execution_count": 8,
   "metadata": {},
   "outputs": [
    {
     "data": {
      "text/plain": [
       "(2947, 200)"
      ]
     },
     "execution_count": 8,
     "metadata": {},
     "output_type": "execute_result"
    }
   ],
   "source": [
    "X_test_scaled.shape"
   ]
  },
  {
   "cell_type": "code",
   "execution_count": 9,
   "metadata": {},
   "outputs": [
    {
     "name": "stderr",
     "output_type": "stream",
     "text": [
      "/Users/randylee/anaconda3/lib/python3.6/site-packages/h5py/__init__.py:36: FutureWarning: Conversion of the second argument of issubdtype from `float` to `np.floating` is deprecated. In future, it will be treated as `np.float64 == np.dtype(float).type`.\n",
      "  from ._conv import register_converters as _register_converters\n"
     ]
    },
    {
     "data": {
      "text/plain": [
       "'2.0.0'"
      ]
     },
     "execution_count": 9,
     "metadata": {},
     "output_type": "execute_result"
    }
   ],
   "source": [
    "import tensorflow as tf\n",
    "tf.__version__"
   ]
  },
  {
   "cell_type": "markdown",
   "metadata": {},
   "source": [
    "### Tuning Neurons Number"
   ]
  },
  {
   "cell_type": "code",
   "execution_count": 10,
   "metadata": {},
   "outputs": [],
   "source": [
    "def Create_model2(neurons1 = 1, neurons2 = 1, neurons3 = 1):\n",
    "    \n",
    "    #Create model\n",
    "    model = tf.keras.models.Sequential()\n",
    "    \n",
    "    #First layer\n",
    "    model.add(tf.keras.layers.Dense(neurons1, input_dim = 200,\n",
    "                         kernel_initializer='uniform', activation='relu', ))\n",
    "    model.add(tf.keras.layers.Dropout(0.1))\n",
    "    \n",
    "    #Hidden layer\n",
    "    model.add(tf.keras.layers.Dense(neurons2, kernel_initializer='uniform', activation='relu'))\n",
    "    model.add(tf.keras.layers.Dropout(0.1))\n",
    "    model.add(tf.keras.layers.Dense(neurons3, kernel_initializer='uniform', activation='relu'))\n",
    "    model.add(tf.keras.layers.Dropout(0.1))\n",
    "    \n",
    "    #Output layer\n",
    "    model.add(tf.keras.layers.Dense(6, kernel_initializer='uniform', activation='softmax'))\n",
    "    \n",
    "    #Compile model\n",
    "    model.compile(optimizer='adam', loss='sparse_categorical_crossentropy', metrics = ['accuracy'])\n",
    "    return model"
   ]
  },
  {
   "cell_type": "code",
   "execution_count": 11,
   "metadata": {},
   "outputs": [
    {
     "name": "stderr",
     "output_type": "stream",
     "text": [
      "Using TensorFlow backend.\n"
     ]
    },
    {
     "name": "stdout",
     "output_type": "stream",
     "text": [
      "Best: 0.983950 using {'neurons1': 72, 'neurons2': 24, 'neurons3': 30}\n",
      "0.980005 (0.004051) with: {'neurons1': 48, 'neurons2': 24, 'neurons3': 12}\n",
      "0.982318 (0.000842) with: {'neurons1': 48, 'neurons2': 24, 'neurons3': 18}\n",
      "0.979325 (0.004398) with: {'neurons1': 48, 'neurons2': 24, 'neurons3': 24}\n",
      "0.980141 (0.001173) with: {'neurons1': 48, 'neurons2': 24, 'neurons3': 30}\n",
      "0.981230 (0.001762) with: {'neurons1': 48, 'neurons2': 36, 'neurons3': 12}\n",
      "0.980141 (0.001953) with: {'neurons1': 48, 'neurons2': 36, 'neurons3': 18}\n",
      "0.981638 (0.002030) with: {'neurons1': 48, 'neurons2': 36, 'neurons3': 24}\n",
      "0.982318 (0.000506) with: {'neurons1': 48, 'neurons2': 36, 'neurons3': 30}\n",
      "0.980822 (0.004626) with: {'neurons1': 48, 'neurons2': 48, 'neurons3': 12}\n",
      "0.980822 (0.001530) with: {'neurons1': 48, 'neurons2': 48, 'neurons3': 18}\n",
      "0.980686 (0.003002) with: {'neurons1': 48, 'neurons2': 48, 'neurons3': 24}\n",
      "0.980005 (0.001729) with: {'neurons1': 48, 'neurons2': 48, 'neurons3': 30}\n",
      "0.982046 (0.001765) with: {'neurons1': 72, 'neurons2': 24, 'neurons3': 12}\n",
      "0.982046 (0.003280) with: {'neurons1': 72, 'neurons2': 24, 'neurons3': 18}\n",
      "0.981774 (0.001833) with: {'neurons1': 72, 'neurons2': 24, 'neurons3': 24}\n",
      "0.983950 (0.000512) with: {'neurons1': 72, 'neurons2': 24, 'neurons3': 30}\n",
      "0.981230 (0.004905) with: {'neurons1': 72, 'neurons2': 36, 'neurons3': 12}\n",
      "0.980958 (0.002690) with: {'neurons1': 72, 'neurons2': 36, 'neurons3': 18}\n",
      "0.982182 (0.002171) with: {'neurons1': 72, 'neurons2': 36, 'neurons3': 24}\n",
      "0.982046 (0.002903) with: {'neurons1': 72, 'neurons2': 36, 'neurons3': 30}\n",
      "0.981638 (0.002400) with: {'neurons1': 72, 'neurons2': 48, 'neurons3': 12}\n",
      "0.980958 (0.000189) with: {'neurons1': 72, 'neurons2': 48, 'neurons3': 18}\n",
      "0.980686 (0.003076) with: {'neurons1': 72, 'neurons2': 48, 'neurons3': 24}\n",
      "0.982998 (0.003079) with: {'neurons1': 72, 'neurons2': 48, 'neurons3': 30}\n",
      "0.982046 (0.003212) with: {'neurons1': 96, 'neurons2': 24, 'neurons3': 12}\n",
      "0.982998 (0.000839) with: {'neurons1': 96, 'neurons2': 24, 'neurons3': 18}\n",
      "0.975517 (0.007438) with: {'neurons1': 96, 'neurons2': 24, 'neurons3': 24}\n",
      "0.980686 (0.001018) with: {'neurons1': 96, 'neurons2': 24, 'neurons3': 30}\n",
      "0.982862 (0.002642) with: {'neurons1': 96, 'neurons2': 36, 'neurons3': 12}\n",
      "0.983406 (0.000194) with: {'neurons1': 96, 'neurons2': 36, 'neurons3': 18}\n",
      "0.980277 (0.002363) with: {'neurons1': 96, 'neurons2': 36, 'neurons3': 24}\n",
      "0.980822 (0.001454) with: {'neurons1': 96, 'neurons2': 36, 'neurons3': 30}\n",
      "0.983270 (0.001853) with: {'neurons1': 96, 'neurons2': 48, 'neurons3': 12}\n",
      "0.981230 (0.003524) with: {'neurons1': 96, 'neurons2': 48, 'neurons3': 18}\n",
      "0.982454 (0.000883) with: {'neurons1': 96, 'neurons2': 48, 'neurons3': 24}\n",
      "0.982726 (0.001835) with: {'neurons1': 96, 'neurons2': 48, 'neurons3': 30}\n",
      "Running time: 206.48969000000002 Seconds\n"
     ]
    }
   ],
   "source": [
    "from keras.wrappers.scikit_learn import KerasClassifier\n",
    "from sklearn.model_selection import GridSearchCV\n",
    "\n",
    "#Create model\n",
    "model = KerasClassifier(build_fn=Create_model2, epochs=100, batch_size=10, verbose=0)\n",
    "\n",
    "#Define the grid search parameters\n",
    "neurons1 = [48, 72, 96]\n",
    "neurons2 = [24, 36, 48]\n",
    "neurons3 = [12, 18, 24, 30]\n",
    "param_grid = dict(neurons1=neurons1, neurons2=neurons2, neurons3=neurons3)\n",
    "#param_grid = dict(neurons1=neurons1)\n",
    "grid = GridSearchCV(estimator=model, param_grid=param_grid, n_jobs=-1, cv=3)\n",
    "grid_result = grid.fit(X_train_scaled, Y_train)\n",
    "\n",
    "#Summarize results\n",
    "print(\"Best: %f using %s\" % (grid_result.best_score_, grid_result.best_params_))\n",
    "means = grid_result.cv_results_['mean_test_score']\n",
    "stds = grid_result.cv_results_['std_test_score']\n",
    "params = grid_result.cv_results_['params']\n",
    "for mean, stdev, param in zip(means, stds, params):\n",
    "    print(\"%f (%f) with: %r\" % (mean, stdev, param))\n",
    "    \n",
    "end = time.clock()\n",
    "print('Running time: %s Seconds'%(end-start))"
   ]
  },
  {
   "cell_type": "code",
   "execution_count": 11,
   "metadata": {},
   "outputs": [
    {
     "name": "stderr",
     "output_type": "stream",
     "text": [
      "Using TensorFlow backend.\n"
     ]
    },
    {
     "name": "stdout",
     "output_type": "stream",
     "text": [
      "Best: 0.979325 using {'neurons1': 48, 'neurons2': 24, 'neurons3': 12}\n",
      "0.979325 (0.002164) with: {'neurons1': 48, 'neurons2': 24, 'neurons3': 12}\n",
      "Running time: 183.53139000000002 Seconds\n"
     ]
    }
   ],
   "source": [
    "from keras.wrappers.scikit_learn import KerasClassifier\n",
    "from sklearn.model_selection import GridSearchCV\n",
    "\n",
    "#Create model\n",
    "model = KerasClassifier(build_fn=Create_model2, epochs=100, batch_size=10, verbose=0)\n",
    "\n",
    "#Define the grid search parameters\n",
    "neurons1 = [48]\n",
    "neurons2 = [24]\n",
    "neurons3 = [12]\n",
    "param_grid = dict(neurons1=neurons1, neurons2=neurons2, neurons3=neurons3)\n",
    "#param_grid = dict(neurons1=neurons1)\n",
    "grid = GridSearchCV(estimator=model, param_grid=param_grid, n_jobs=-1, cv=3)\n",
    "grid_result = grid.fit(X_train_scaled, Y_train)\n",
    "\n",
    "#Summarize results\n",
    "print(\"Best: %f using %s\" % (grid_result.best_score_, grid_result.best_params_))\n",
    "means = grid_result.cv_results_['mean_test_score']\n",
    "stds = grid_result.cv_results_['std_test_score']\n",
    "params = grid_result.cv_results_['params']\n",
    "for mean, stdev, param in zip(means, stds, params):\n",
    "    print(\"%f (%f) with: %r\" % (mean, stdev, param))\n",
    "    \n",
    "end = time.clock()\n",
    "print('Running time: %s Seconds'%(end-start))"
   ]
  },
  {
   "cell_type": "code",
   "execution_count": 9,
   "metadata": {},
   "outputs": [
    {
     "name": "stderr",
     "output_type": "stream",
     "text": [
      "Using TensorFlow backend.\n"
     ]
    },
    {
     "name": "stdout",
     "output_type": "stream",
     "text": [
      "Best: 0.986534 using {'neurons1': 48, 'neurons2': 36, 'neurons3': 30}\n",
      "0.981638 (0.000663) with: {'neurons1': 48, 'neurons2': 24, 'neurons3': 12}\n",
      "0.979597 (0.005039) with: {'neurons1': 48, 'neurons2': 24, 'neurons3': 18}\n",
      "0.981230 (0.004256) with: {'neurons1': 48, 'neurons2': 24, 'neurons3': 24}\n",
      "0.984766 (0.002217) with: {'neurons1': 48, 'neurons2': 24, 'neurons3': 30}\n",
      "0.978373 (0.004703) with: {'neurons1': 48, 'neurons2': 24, 'neurons3': 36}\n",
      "0.980686 (0.001018) with: {'neurons1': 48, 'neurons2': 36, 'neurons3': 12}\n",
      "0.979733 (0.002453) with: {'neurons1': 48, 'neurons2': 36, 'neurons3': 18}\n",
      "0.983270 (0.001336) with: {'neurons1': 48, 'neurons2': 36, 'neurons3': 24}\n",
      "0.986534 (0.001204) with: {'neurons1': 48, 'neurons2': 36, 'neurons3': 30}\n",
      "0.981910 (0.002361) with: {'neurons1': 48, 'neurons2': 36, 'neurons3': 36}\n",
      "0.981774 (0.001680) with: {'neurons1': 48, 'neurons2': 48, 'neurons3': 12}\n",
      "0.982862 (0.000579) with: {'neurons1': 48, 'neurons2': 48, 'neurons3': 18}\n",
      "0.981910 (0.002412) with: {'neurons1': 48, 'neurons2': 48, 'neurons3': 24}\n",
      "0.977557 (0.002334) with: {'neurons1': 48, 'neurons2': 48, 'neurons3': 30}\n",
      "0.981638 (0.004663) with: {'neurons1': 48, 'neurons2': 48, 'neurons3': 36}\n",
      "0.982862 (0.004093) with: {'neurons1': 48, 'neurons2': 60, 'neurons3': 12}\n",
      "0.982998 (0.002269) with: {'neurons1': 48, 'neurons2': 60, 'neurons3': 18}\n",
      "0.981502 (0.003288) with: {'neurons1': 48, 'neurons2': 60, 'neurons3': 24}\n",
      "0.982590 (0.002589) with: {'neurons1': 48, 'neurons2': 60, 'neurons3': 30}\n",
      "0.984494 (0.000999) with: {'neurons1': 48, 'neurons2': 60, 'neurons3': 36}\n",
      "0.982726 (0.001707) with: {'neurons1': 48, 'neurons2': 72, 'neurons3': 12}\n",
      "0.980958 (0.000771) with: {'neurons1': 48, 'neurons2': 72, 'neurons3': 18}\n",
      "0.983134 (0.001386) with: {'neurons1': 48, 'neurons2': 72, 'neurons3': 24}\n",
      "0.982318 (0.001390) with: {'neurons1': 48, 'neurons2': 72, 'neurons3': 30}\n",
      "0.982046 (0.002668) with: {'neurons1': 48, 'neurons2': 72, 'neurons3': 36}\n",
      "0.982590 (0.003865) with: {'neurons1': 72, 'neurons2': 24, 'neurons3': 12}\n",
      "0.983814 (0.001712) with: {'neurons1': 72, 'neurons2': 24, 'neurons3': 18}\n",
      "0.981094 (0.004819) with: {'neurons1': 72, 'neurons2': 24, 'neurons3': 24}\n",
      "0.981910 (0.000690) with: {'neurons1': 72, 'neurons2': 24, 'neurons3': 30}\n",
      "0.983950 (0.002266) with: {'neurons1': 72, 'neurons2': 24, 'neurons3': 36}\n",
      "0.982454 (0.000333) with: {'neurons1': 72, 'neurons2': 36, 'neurons3': 12}\n",
      "0.980686 (0.004282) with: {'neurons1': 72, 'neurons2': 36, 'neurons3': 18}\n",
      "0.984766 (0.002011) with: {'neurons1': 72, 'neurons2': 36, 'neurons3': 24}\n",
      "0.979733 (0.003592) with: {'neurons1': 72, 'neurons2': 36, 'neurons3': 30}\n",
      "0.979053 (0.005126) with: {'neurons1': 72, 'neurons2': 36, 'neurons3': 36}\n",
      "0.981910 (0.001832) with: {'neurons1': 72, 'neurons2': 48, 'neurons3': 12}\n",
      "0.984902 (0.001764) with: {'neurons1': 72, 'neurons2': 48, 'neurons3': 18}\n",
      "0.984630 (0.001068) with: {'neurons1': 72, 'neurons2': 48, 'neurons3': 24}\n",
      "0.982046 (0.002643) with: {'neurons1': 72, 'neurons2': 48, 'neurons3': 30}\n",
      "0.982726 (0.003684) with: {'neurons1': 72, 'neurons2': 48, 'neurons3': 36}\n",
      "0.979869 (0.001577) with: {'neurons1': 72, 'neurons2': 60, 'neurons3': 12}\n",
      "0.983270 (0.001733) with: {'neurons1': 72, 'neurons2': 60, 'neurons3': 18}\n",
      "0.982998 (0.002006) with: {'neurons1': 72, 'neurons2': 60, 'neurons3': 24}\n",
      "0.982182 (0.002270) with: {'neurons1': 72, 'neurons2': 60, 'neurons3': 30}\n",
      "0.983950 (0.003007) with: {'neurons1': 72, 'neurons2': 60, 'neurons3': 36}\n",
      "0.981910 (0.004028) with: {'neurons1': 72, 'neurons2': 72, 'neurons3': 12}\n",
      "0.983950 (0.002271) with: {'neurons1': 72, 'neurons2': 72, 'neurons3': 18}\n",
      "0.982318 (0.000963) with: {'neurons1': 72, 'neurons2': 72, 'neurons3': 24}\n",
      "0.977829 (0.008572) with: {'neurons1': 72, 'neurons2': 72, 'neurons3': 30}\n",
      "0.983406 (0.002544) with: {'neurons1': 72, 'neurons2': 72, 'neurons3': 36}\n",
      "0.981910 (0.000191) with: {'neurons1': 96, 'neurons2': 24, 'neurons3': 12}\n",
      "0.984358 (0.000386) with: {'neurons1': 96, 'neurons2': 24, 'neurons3': 18}\n",
      "0.983542 (0.000386) with: {'neurons1': 96, 'neurons2': 24, 'neurons3': 24}\n",
      "0.984358 (0.001575) with: {'neurons1': 96, 'neurons2': 24, 'neurons3': 30}\n",
      "0.981774 (0.001949) with: {'neurons1': 96, 'neurons2': 24, 'neurons3': 36}\n",
      "0.986262 (0.001953) with: {'neurons1': 96, 'neurons2': 36, 'neurons3': 12}\n",
      "0.983270 (0.002965) with: {'neurons1': 96, 'neurons2': 36, 'neurons3': 18}\n",
      "0.980686 (0.003076) with: {'neurons1': 96, 'neurons2': 36, 'neurons3': 24}\n",
      "0.983406 (0.000771) with: {'neurons1': 96, 'neurons2': 36, 'neurons3': 30}\n",
      "0.983270 (0.002078) with: {'neurons1': 96, 'neurons2': 36, 'neurons3': 36}\n",
      "0.983678 (0.001730) with: {'neurons1': 96, 'neurons2': 48, 'neurons3': 12}\n",
      "0.982318 (0.001895) with: {'neurons1': 96, 'neurons2': 48, 'neurons3': 18}\n",
      "0.983134 (0.002988) with: {'neurons1': 96, 'neurons2': 48, 'neurons3': 24}\n",
      "0.979325 (0.003671) with: {'neurons1': 96, 'neurons2': 48, 'neurons3': 30}\n",
      "0.979733 (0.006546) with: {'neurons1': 96, 'neurons2': 48, 'neurons3': 36}\n",
      "0.982998 (0.001537) with: {'neurons1': 96, 'neurons2': 60, 'neurons3': 12}\n",
      "0.984358 (0.000508) with: {'neurons1': 96, 'neurons2': 60, 'neurons3': 18}\n",
      "0.981910 (0.000836) with: {'neurons1': 96, 'neurons2': 60, 'neurons3': 24}\n",
      "0.982998 (0.002831) with: {'neurons1': 96, 'neurons2': 60, 'neurons3': 30}\n",
      "0.980550 (0.002497) with: {'neurons1': 96, 'neurons2': 60, 'neurons3': 36}\n",
      "0.981230 (0.000581) with: {'neurons1': 96, 'neurons2': 72, 'neurons3': 12}\n",
      "0.984766 (0.001168) with: {'neurons1': 96, 'neurons2': 72, 'neurons3': 18}\n",
      "0.977829 (0.007699) with: {'neurons1': 96, 'neurons2': 72, 'neurons3': 24}\n",
      "0.983950 (0.001344) with: {'neurons1': 96, 'neurons2': 72, 'neurons3': 30}\n",
      "0.979325 (0.003667) with: {'neurons1': 96, 'neurons2': 72, 'neurons3': 36}\n",
      "0.982046 (0.002887) with: {'neurons1': 120, 'neurons2': 24, 'neurons3': 12}\n",
      "0.981230 (0.002648) with: {'neurons1': 120, 'neurons2': 24, 'neurons3': 18}\n",
      "0.984902 (0.002188) with: {'neurons1': 120, 'neurons2': 24, 'neurons3': 24}\n",
      "0.980414 (0.000878) with: {'neurons1': 120, 'neurons2': 24, 'neurons3': 30}\n",
      "0.977285 (0.010214) with: {'neurons1': 120, 'neurons2': 24, 'neurons3': 36}\n",
      "0.982862 (0.000883) with: {'neurons1': 120, 'neurons2': 36, 'neurons3': 12}\n",
      "0.981774 (0.001390) with: {'neurons1': 120, 'neurons2': 36, 'neurons3': 18}\n",
      "0.981774 (0.001680) with: {'neurons1': 120, 'neurons2': 36, 'neurons3': 24}\n",
      "0.982998 (0.000766) with: {'neurons1': 120, 'neurons2': 36, 'neurons3': 30}\n",
      "0.979053 (0.005866) with: {'neurons1': 120, 'neurons2': 36, 'neurons3': 36}\n",
      "0.985310 (0.001668) with: {'neurons1': 120, 'neurons2': 48, 'neurons3': 12}\n",
      "0.980822 (0.004406) with: {'neurons1': 120, 'neurons2': 48, 'neurons3': 18}\n",
      "0.976469 (0.002497) with: {'neurons1': 120, 'neurons2': 48, 'neurons3': 24}\n",
      "0.984086 (0.000579) with: {'neurons1': 120, 'neurons2': 48, 'neurons3': 30}\n",
      "0.982318 (0.001069) with: {'neurons1': 120, 'neurons2': 48, 'neurons3': 36}\n",
      "0.981366 (0.001537) with: {'neurons1': 120, 'neurons2': 60, 'neurons3': 12}\n",
      "0.983406 (0.000771) with: {'neurons1': 120, 'neurons2': 60, 'neurons3': 18}\n",
      "0.984222 (0.002989) with: {'neurons1': 120, 'neurons2': 60, 'neurons3': 24}\n",
      "0.984494 (0.001156) with: {'neurons1': 120, 'neurons2': 60, 'neurons3': 30}\n",
      "0.982862 (0.003482) with: {'neurons1': 120, 'neurons2': 60, 'neurons3': 36}\n",
      "0.981774 (0.001680) with: {'neurons1': 120, 'neurons2': 72, 'neurons3': 12}\n",
      "0.982590 (0.001712) with: {'neurons1': 120, 'neurons2': 72, 'neurons3': 18}\n",
      "0.982998 (0.001838) with: {'neurons1': 120, 'neurons2': 72, 'neurons3': 24}\n",
      "0.982726 (0.000838) with: {'neurons1': 120, 'neurons2': 72, 'neurons3': 30}\n",
      "0.982454 (0.002329) with: {'neurons1': 120, 'neurons2': 72, 'neurons3': 36}\n",
      "0.978509 (0.004783) with: {'neurons1': 144, 'neurons2': 24, 'neurons3': 12}\n",
      "0.981502 (0.001506) with: {'neurons1': 144, 'neurons2': 24, 'neurons3': 18}\n",
      "0.984358 (0.003026) with: {'neurons1': 144, 'neurons2': 24, 'neurons3': 24}\n",
      "0.983406 (0.002525) with: {'neurons1': 144, 'neurons2': 24, 'neurons3': 30}\n",
      "0.979053 (0.005681) with: {'neurons1': 144, 'neurons2': 24, 'neurons3': 36}\n",
      "0.982318 (0.003098) with: {'neurons1': 144, 'neurons2': 36, 'neurons3': 12}\n",
      "0.980550 (0.001265) with: {'neurons1': 144, 'neurons2': 36, 'neurons3': 18}\n",
      "0.978237 (0.003667) with: {'neurons1': 144, 'neurons2': 36, 'neurons3': 24}\n",
      "0.981638 (0.003846) with: {'neurons1': 144, 'neurons2': 36, 'neurons3': 30}\n",
      "0.976605 (0.006852) with: {'neurons1': 144, 'neurons2': 36, 'neurons3': 36}\n",
      "0.983406 (0.001389) with: {'neurons1': 144, 'neurons2': 48, 'neurons3': 12}\n",
      "0.982182 (0.004002) with: {'neurons1': 144, 'neurons2': 48, 'neurons3': 18}\n",
      "0.981638 (0.002518) with: {'neurons1': 144, 'neurons2': 48, 'neurons3': 24}\n",
      "0.979733 (0.005593) with: {'neurons1': 144, 'neurons2': 48, 'neurons3': 30}\n",
      "0.978101 (0.004217) with: {'neurons1': 144, 'neurons2': 48, 'neurons3': 36}\n",
      "0.979597 (0.002082) with: {'neurons1': 144, 'neurons2': 60, 'neurons3': 12}\n",
      "0.981230 (0.001855) with: {'neurons1': 144, 'neurons2': 60, 'neurons3': 18}\n",
      "0.978917 (0.002008) with: {'neurons1': 144, 'neurons2': 60, 'neurons3': 24}\n",
      "0.984766 (0.001572) with: {'neurons1': 144, 'neurons2': 60, 'neurons3': 30}\n",
      "0.980550 (0.001167) with: {'neurons1': 144, 'neurons2': 60, 'neurons3': 36}\n",
      "0.982998 (0.002218) with: {'neurons1': 144, 'neurons2': 72, 'neurons3': 12}\n",
      "0.984086 (0.001002) with: {'neurons1': 144, 'neurons2': 72, 'neurons3': 18}\n",
      "0.982046 (0.002724) with: {'neurons1': 144, 'neurons2': 72, 'neurons3': 24}\n",
      "0.985038 (0.001675) with: {'neurons1': 144, 'neurons2': 72, 'neurons3': 30}\n",
      "0.982454 (0.000666) with: {'neurons1': 144, 'neurons2': 72, 'neurons3': 36}\n",
      "Running time: 211.796458 Seconds\n"
     ]
    }
   ],
   "source": [
    "from keras.wrappers.scikit_learn import KerasClassifier\n",
    "from sklearn.model_selection import GridSearchCV\n",
    "\n",
    "#Create model\n",
    "model = KerasClassifier(build_fn=Create_model2, epochs=100, batch_size=10, verbose=0)\n",
    "\n",
    "#Define the grid search parameters\n",
    "neurons1 = [48, 72, 96, 120, 144]\n",
    "neurons2 = [24, 36, 48, 60, 72]\n",
    "neurons3 = [12, 18, 24, 30, 36]\n",
    "param_grid = dict(neurons1=neurons1, neurons2=neurons2, neurons3=neurons3)\n",
    "#param_grid = dict(neurons1=neurons1)\n",
    "grid = GridSearchCV(estimator=model, param_grid=param_grid, n_jobs=-1, cv=3)\n",
    "grid_result = grid.fit(X_train_scaled, Y_train)\n",
    "\n",
    "#Summarize results\n",
    "print(\"Best: %f using %s\" % (grid_result.best_score_, grid_result.best_params_))\n",
    "means = grid_result.cv_results_['mean_test_score']\n",
    "stds = grid_result.cv_results_['std_test_score']\n",
    "params = grid_result.cv_results_['params']\n",
    "for mean, stdev, param in zip(means, stds, params):\n",
    "    print(\"%f (%f) with: %r\" % (mean, stdev, param))\n",
    "    \n",
    "end = time.clock()\n",
    "print('Running time: %s Seconds'%(end-start))"
   ]
  },
  {
   "cell_type": "code",
   "execution_count": 9,
   "metadata": {},
   "outputs": [
    {
     "name": "stderr",
     "output_type": "stream",
     "text": [
      "Using TensorFlow backend.\n"
     ]
    },
    {
     "name": "stdout",
     "output_type": "stream",
     "text": [
      "WARNING:tensorflow:Method (on_train_batch_end) is slow compared to the batch update (0.125131). Check your callbacks.\n",
      "Best: 0.977013 using {'neurons1': 96, 'neurons2': 48, 'neurons3': 18}\n",
      "0.972933 (0.003886) with: {'neurons1': 48, 'neurons2': 24, 'neurons3': 12}\n",
      "0.971436 (0.000574) with: {'neurons1': 48, 'neurons2': 24, 'neurons3': 18}\n",
      "0.974021 (0.000510) with: {'neurons1': 48, 'neurons2': 24, 'neurons3': 24}\n",
      "0.972388 (0.000839) with: {'neurons1': 48, 'neurons2': 36, 'neurons3': 12}\n",
      "0.974837 (0.001919) with: {'neurons1': 48, 'neurons2': 36, 'neurons3': 18}\n",
      "0.973885 (0.001449) with: {'neurons1': 48, 'neurons2': 36, 'neurons3': 24}\n",
      "0.974565 (0.001013) with: {'neurons1': 48, 'neurons2': 48, 'neurons3': 12}\n",
      "0.969668 (0.000775) with: {'neurons1': 48, 'neurons2': 48, 'neurons3': 18}\n",
      "0.966268 (0.011963) with: {'neurons1': 48, 'neurons2': 48, 'neurons3': 24}\n",
      "0.972797 (0.004136) with: {'neurons1': 72, 'neurons2': 24, 'neurons3': 12}\n",
      "0.971844 (0.001860) with: {'neurons1': 72, 'neurons2': 24, 'neurons3': 18}\n",
      "0.972797 (0.001507) with: {'neurons1': 72, 'neurons2': 24, 'neurons3': 24}\n",
      "0.975517 (0.004327) with: {'neurons1': 72, 'neurons2': 36, 'neurons3': 12}\n",
      "0.974021 (0.005392) with: {'neurons1': 72, 'neurons2': 36, 'neurons3': 18}\n",
      "0.973749 (0.003353) with: {'neurons1': 72, 'neurons2': 36, 'neurons3': 24}\n",
      "0.972933 (0.001166) with: {'neurons1': 72, 'neurons2': 48, 'neurons3': 12}\n",
      "0.973341 (0.002496) with: {'neurons1': 72, 'neurons2': 48, 'neurons3': 18}\n",
      "0.970756 (0.003349) with: {'neurons1': 72, 'neurons2': 48, 'neurons3': 24}\n",
      "0.974429 (0.000513) with: {'neurons1': 96, 'neurons2': 24, 'neurons3': 12}\n",
      "0.975381 (0.002770) with: {'neurons1': 96, 'neurons2': 24, 'neurons3': 18}\n",
      "0.973749 (0.001949) with: {'neurons1': 96, 'neurons2': 24, 'neurons3': 24}\n",
      "0.974973 (0.003368) with: {'neurons1': 96, 'neurons2': 36, 'neurons3': 12}\n",
      "0.976605 (0.003350) with: {'neurons1': 96, 'neurons2': 36, 'neurons3': 18}\n",
      "0.975653 (0.003232) with: {'neurons1': 96, 'neurons2': 36, 'neurons3': 24}\n",
      "0.966812 (0.005334) with: {'neurons1': 96, 'neurons2': 48, 'neurons3': 12}\n",
      "0.977013 (0.002265) with: {'neurons1': 96, 'neurons2': 48, 'neurons3': 18}\n",
      "0.968444 (0.005227) with: {'neurons1': 96, 'neurons2': 48, 'neurons3': 24}\n",
      "Running time: 26.259239 Seconds\n"
     ]
    }
   ],
   "source": [
    "from keras.wrappers.scikit_learn import KerasClassifier\n",
    "from sklearn.model_selection import GridSearchCV\n",
    "\n",
    "#Create model\n",
    "model = KerasClassifier(build_fn=Create_model2, epochs=10, batch_size=20, verbose=0)\n",
    "\n",
    "#Define the grid search parameters\n",
    "neurons1 = [48, 72, 96]\n",
    "neurons2 = [24, 36, 48]\n",
    "neurons3 = [12, 18, 24]\n",
    "param_grid = dict(neurons1=neurons1, neurons2=neurons2, neurons3=neurons3)\n",
    "#param_grid = dict(neurons1=neurons1)\n",
    "grid = GridSearchCV(estimator=model, param_grid=param_grid, n_jobs=-1, cv=3)\n",
    "grid_result = grid.fit(X_train_scaled, Y_train)\n",
    "\n",
    "#Summarize results\n",
    "print(\"Best: %f using %s\" % (grid_result.best_score_, grid_result.best_params_))\n",
    "means = grid_result.cv_results_['mean_test_score']\n",
    "stds = grid_result.cv_results_['std_test_score']\n",
    "params = grid_result.cv_results_['params']\n",
    "for mean, stdev, param in zip(means, stds, params):\n",
    "    print(\"%f (%f) with: %r\" % (mean, stdev, param))\n",
    "    \n",
    "end = time.clock()\n",
    "print('Running time: %s Seconds'%(end-start))"
   ]
  }
 ],
 "metadata": {
  "kernelspec": {
   "display_name": "Python 3",
   "language": "python",
   "name": "python3"
  },
  "language_info": {
   "codemirror_mode": {
    "name": "ipython",
    "version": 3
   },
   "file_extension": ".py",
   "mimetype": "text/x-python",
   "name": "python",
   "nbconvert_exporter": "python",
   "pygments_lexer": "ipython3",
   "version": "3.6.5"
  }
 },
 "nbformat": 4,
 "nbformat_minor": 2
}
